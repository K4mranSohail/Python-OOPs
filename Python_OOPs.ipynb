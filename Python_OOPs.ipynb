{
  "nbformat": 4,
  "nbformat_minor": 0,
  "metadata": {
    "colab": {
      "provenance": []
    },
    "kernelspec": {
      "name": "python3",
      "display_name": "Python 3"
    },
    "language_info": {
      "name": "python"
    }
  },
  "cells": [
    {
      "cell_type": "markdown",
      "source": [
        "# Python OOPs Questions"
      ],
      "metadata": {
        "id": "yGdilPzOR51F"
      }
    },
    {
      "cell_type": "markdown",
      "source": [
        "Q1. What is Object-Oriented Programming (OOP)?\n",
        "\n",
        " - Object-Oriented Programming (OOP) is a programming paradigm based on the concept of objects, which can contain data (in the form of fields, often known as attributes or properties) and code (in the form of methods or functions)."
      ],
      "metadata": {
        "id": "AhCqF6T-SAhX"
      }
    },
    {
      "cell_type": "markdown",
      "source": [
        "Q2. What is a class in OOP?\n",
        "\n",
        " - In Object-Oriented Programming (OOP), a class is a blueprint or template for creating objects."
      ],
      "metadata": {
        "id": "6iatRmpUSNRk"
      }
    },
    {
      "cell_type": "markdown",
      "source": [
        "Q3. hat is an object in OOP?\n",
        "\n",
        " - In Object-Oriented Programming (OOP), an object is an instance of a class that contains data (attributes) and methods (functions) that define its behavior."
      ],
      "metadata": {
        "id": "9nBQnc-aSbQW"
      }
    },
    {
      "cell_type": "markdown",
      "source": [
        "Q4. What is the difference between abstraction and encapsulation?\n",
        "\n",
        " - In Object-Oriented Programming (OOP), Abstraction and Encapsulation are two fundamental concepts that help in building efficient and secure software. Abstraction is the process of hiding unnecessary details and showing only the essential features of an object to the user. It focuses on what an object does, rather than how it does it, allowing the user to interact with the functionality without knowing the internal complexity. For example, when driving a car, the driver simply uses the steering wheel and pedals without understanding the internal mechanism of the engine. In Python, abstraction is often achieved using abstract classes and interfaces. On the other hand, Encapsulation is the process of wrapping data and methods into a single unit (class) and restricting direct access to some components to protect sensitive data. This is done by using access modifiers like private (__) or protected (_) to prevent unauthorized access to variables and methods. For instance, in an ATM machine, the user can perform transactions without directly accessing the backend code. Encapsulation helps in data security, code reusability, and better control over the data flow. In summary, abstraction focuses on hiding complexity, while encapsulation focuses on protecting data."
      ],
      "metadata": {
        "id": "d5bk-JQjSpp6"
      }
    },
    {
      "cell_type": "markdown",
      "source": [
        "Q5. What are dunder methods in Python?\n",
        "\n",
        " - In Python, Dunder Methods (short for \"Double Underscore Methods\") are special methods that start and end with double underscores (__). These methods are also known as \"magic methods\" because they allow us to override default behavior and customize the functionality of objects.\n",
        "\n"
      ],
      "metadata": {
        "id": "QNBwSlV2S76m"
      }
    },
    {
      "cell_type": "markdown",
      "source": [
        "Q6. Explain the concept of inheritance in OOP.\n",
        "\n",
        " - Inheritance is a core concept of OOP that allows one class (child class) to inherit the properties and methods of another class (parent class). It promotes code reusability, reduces redundancy, and helps in building a hierarchical structure of classes."
      ],
      "metadata": {
        "id": "sFxRIAPsTFJ1"
      }
    },
    {
      "cell_type": "markdown",
      "source": [
        "Q7. What is polymorphism in OOP?\n",
        "\n",
        " - The word Polymorphism is derived from two Greek words:\n",
        "\n",
        "\"Poly\" = Many\n",
        "\n",
        "\"Morph\" = Forms\n",
        "\n",
        "In OOP, Polymorphism allows objects of different classes to be treated as objects of a common base class. It enables one interface to be used for different types of objects, allowing different objects to respond differently to the same method or function call."
      ],
      "metadata": {
        "id": "CUkf1jyfTOBD"
      }
    },
    {
      "cell_type": "markdown",
      "source": [
        "Q8. How is encapsulation achieved in Python?\n",
        "\n",
        " - Encapsulation is one of the core principles of Object-Oriented Programming (OOP) that allows us to protect data and restrict access to variables and methods within a class. It helps in hiding the internal details of an object and only exposing necessary functionality to the outside world."
      ],
      "metadata": {
        "id": "XcZ5k4ZTTaaf"
      }
    },
    {
      "cell_type": "markdown",
      "source": [
        "Q9. What is a constructor in Python?\n",
        "\n",
        " - A Constructor is a special method in Python that is automatically called when an object is created from a class. The main purpose of a constructor is to initialize the attributes (variables) of the class."
      ],
      "metadata": {
        "id": "ZCmyEKLTTzBN"
      }
    },
    {
      "cell_type": "markdown",
      "source": [
        "Q10. What are class and static methods in Python?\n",
        "\n",
        " - In Python, both Class Methods and Static Methods are used to define functions inside a class, but they serve different purposes and have different behavior."
      ],
      "metadata": {
        "id": "YuHRMzLFUA8d"
      }
    },
    {
      "cell_type": "markdown",
      "source": [
        "Q11. What is method overloading in Python?\n",
        "\n",
        " - Method Overloading allows a class to have multiple methods with the same name but different arguments (parameters)."
      ],
      "metadata": {
        "id": "Gp90IXeQUMmn"
      }
    },
    {
      "cell_type": "markdown",
      "source": [
        "Q12. What is method overriding in OOP?\n",
        "\n",
        " - Method Overriding allows a child class (subclass) to provide a specific implementation of a method that is already defined in its parent class (superclass)."
      ],
      "metadata": {
        "id": "M8fDQ839Ub48"
      }
    },
    {
      "cell_type": "markdown",
      "source": [
        "Q13. What is a property decorator in Python?\n",
        "\n",
        " - The @property decorator in Python is used to define getter, setter, and deleter methods in a class, allowing controlled access to private attributes."
      ],
      "metadata": {
        "id": "_5Wi1-COUmJg"
      }
    },
    {
      "cell_type": "markdown",
      "source": [
        "Q14.  Why is polymorphism important in OOP?\n",
        "\n",
        " - Polymorphism means \"many forms.\" It allows different objects to be treated as instances of the same class, even if they belong to different classes."
      ],
      "metadata": {
        "id": "AW3qHIIaUtgb"
      }
    },
    {
      "cell_type": "markdown",
      "source": [
        "Q15. What is an abstract class in Python?\n",
        "\n",
        " - An Abstract Class in Python is a blueprint for other classes. It cannot be instantiated directly and is used to define common methods that must be implemented by child classes."
      ],
      "metadata": {
        "id": "nalb5FVLU28y"
      }
    },
    {
      "cell_type": "markdown",
      "source": [
        "Q16. What are the advantages of OOP?\n",
        "\n",
        " - Object-Oriented Programming (OOP) is a powerful programming paradigm that organizes code using classes and objects. It provides several benefits that make coding more efficient and scalable.\n",
        "\n"
      ],
      "metadata": {
        "id": "365B89XJVANd"
      }
    },
    {
      "cell_type": "markdown",
      "source": [
        "Q17.  What is the difference between a class variable and an instance variable?\n",
        "\n",
        " - In Python, class variables and instance variables are used to store data within a class, but they have different scopes and behaviors.\n",
        "\n",
        "✅ Class Variable\n",
        "\n",
        " - Defined inside the class but outside any method.\n",
        "\n",
        " - Shared among all objects of the class.\n",
        "\n",
        " - Changes in one object affect all other objects.\n",
        "\n",
        "✅ Instance Variable\n",
        "\n",
        " - Defined inside the constructor (__init__) or methods using self keyword.\n",
        "\n",
        " - Unique for each object (instance).\n",
        "\n",
        " - Changes in one object do not affect others.\n"
      ],
      "metadata": {
        "id": "SAt_A9AwVKcM"
      }
    },
    {
      "cell_type": "markdown",
      "source": [
        "Q18. What is multiple inheritance in Python?\n",
        "\n",
        " - Multiple Inheritance in Python allows a child class to inherit from more than one parent class. This means a single class can access attributes and methods from multiple parent classes.\n",
        "\n"
      ],
      "metadata": {
        "id": "YtcKzUCKVsAJ"
      }
    },
    {
      "cell_type": "markdown",
      "source": [
        "Q19. Explain the purpose of ‘’__str__’ and ‘__repr__’ ‘ methods in Python?\n",
        "\n",
        " - In Python, __str__ and __repr__ are special (dunder) methods used to control how objects are represented as strings.\n",
        "\n",
        " ✅ What is __str__?\n",
        "\n",
        " - Used for creating a human-readable (user-friendly) string representation of an object.\n",
        "\n",
        " - Called when you use print() or str() function.\n",
        "\n",
        " - Helps in displaying meaningful information to the end-user.\n",
        "\n",
        " ✅ What is __repr__?\n",
        "\n",
        " - Used for creating an unambiguous (developer-friendly) string representation\n",
        "   of an object.\n",
        " - Mainly used for debugging and logging purposes.\n",
        "\n",
        " - Called when you use repr() function or directly in the Python shell.\n"
      ],
      "metadata": {
        "id": "SXrGsJInV-6G"
      }
    },
    {
      "cell_type": "markdown",
      "source": [
        "Q20. What is the significance of the ‘super()’ function in Python?\n",
        "\n",
        " - ✅ Purpose of super() Function:\n",
        "\n",
        "    Allows calling the constructor (__init__) of the parent class.\n",
        "\n",
        "    Helps in method overriding.\n",
        "\n",
        "    Supports multiple inheritance.\n",
        "    \n",
        "    Prevents code duplication."
      ],
      "metadata": {
        "id": "rYKvmIIuVgWz"
      }
    },
    {
      "cell_type": "markdown",
      "source": [
        "Q21. What is the significance of the __del__ method in Python?\n",
        "\n",
        " ✅ Purpose of __del__:\n",
        "\n",
        " - Releases resources like files or database connections.\n",
        " - Performs cleanup tasks before an object is destroyed.\n",
        " - Frees up memory when an object is no longer needed."
      ],
      "metadata": {
        "id": "fbFqOHq2XMSV"
      }
    },
    {
      "cell_type": "markdown",
      "source": [
        "Q22. What is the difference between @staticmethod and @classmethod in Python?\n",
        "\n",
        " - In Python, both @staticmethod and @classmethod are decorators used to define methods that do not require an instance of the class to be called. However, they serve different purposes.\n",
        "\n"
      ],
      "metadata": {
        "id": "1xqPXbL3W-pE"
      }
    },
    {
      "cell_type": "markdown",
      "source": [
        "Q23. How does polymorphism work in Python with inheritance?\n",
        "\n",
        " - When a child class overrides a method from the parent class, polymorphism allows calling the method of the child class using the parent class reference.\n",
        "It allows different objects to respond to the same method in different ways.\n"
      ],
      "metadata": {
        "id": "3pTL8VgiXukZ"
      }
    },
    {
      "cell_type": "markdown",
      "source": [
        "Q24. What is method chaining in Python OOP?\n",
        "\n",
        " - Method Chaining in Python allows you to call multiple methods on the same object in a single line of code.\n",
        "\n"
      ],
      "metadata": {
        "id": "U0VvJZpBX7vg"
      }
    },
    {
      "cell_type": "markdown",
      "source": [
        "Q25. What is the purpose of the __call__ method in Python?\n",
        "\n",
        " - When __call__ is defined in a class, you can use the object of that class as a function.\n",
        "It allows creating callable objects.\n"
      ],
      "metadata": {
        "id": "8RYWnbFiYETr"
      }
    },
    {
      "cell_type": "markdown",
      "source": [
        "# Practical Questions"
      ],
      "metadata": {
        "id": "gu1XIY-aYSDw"
      }
    },
    {
      "cell_type": "code",
      "source": [
        "# 1. Create a parent class Animal with a method speak() that prints a generic message. Create a child class Dog that overrides the speak() method to print \"Bark!\".\n",
        "\n",
        "class Animal:\n",
        "    def speak(self):\n",
        "        print(\"Animal makes a sound\")\n",
        "\n",
        "class Dog(Animal):\n",
        "    def speak(self):\n",
        "        print(\"Bark!\")\n",
        "\n",
        "# Creating objects\n",
        "animal = Animal()\n",
        "dog = Dog()\n",
        "\n",
        "# Calling speak method\n",
        "animal.speak()\n",
        "dog.speak()\n"
      ],
      "metadata": {
        "colab": {
          "base_uri": "https://localhost:8080/"
        },
        "id": "IGK1cXBFYXos",
        "outputId": "59e141c5-66a0-481a-9772-6fde3b72b950"
      },
      "execution_count": 2,
      "outputs": [
        {
          "output_type": "stream",
          "name": "stdout",
          "text": [
            "Animal makes a sound\n",
            "Bark!\n"
          ]
        }
      ]
    },
    {
      "cell_type": "code",
      "source": [
        "# 2. Write a program to create an abstract class Shape with a method area(). Derive classes Circle and Rectangle from it and implement the area() method in both.\n",
        "\n",
        "from abc import ABC, abstractmethod\n",
        "import math\n",
        "\n",
        "class Shape(ABC):\n",
        "    @abstractmethod\n",
        "    def area(self): pass\n",
        "\n",
        "class Circle(Shape):\n",
        "    def __init__(self, r): self.radius = r\n",
        "    def area(self): return math.pi * self.radius**2\n",
        "\n",
        "class Rectangle(Shape):\n",
        "    def __init__(self, l, w): self.length, self.width = l, w\n",
        "    def area(self): return self.length * self.width\n",
        "\n",
        "c = Circle(5)\n",
        "r = Rectangle(4, 6)\n",
        "print(c.area(), r.area())\n"
      ],
      "metadata": {
        "colab": {
          "base_uri": "https://localhost:8080/"
        },
        "id": "2Kh38MrfYyuM",
        "outputId": "5eed5c8c-f7e1-420c-b4fa-2ced66bd20cc"
      },
      "execution_count": 9,
      "outputs": [
        {
          "output_type": "stream",
          "name": "stdout",
          "text": [
            "78.53981633974483 24\n"
          ]
        }
      ]
    },
    {
      "cell_type": "code",
      "source": [
        "# 3. Implement a multi-level inheritance scenario where a class Vehicle has an attribute type. Derive a class Car and further derive a class ElectricCar that adds a battery attribute.\n",
        "\n",
        "class Vehicle:\n",
        "    def __init__(self, type):\n",
        "        self.type = type\n",
        "\n",
        "    def display_type(self):\n",
        "        print(f\"Vehicle type: {self.type}\")\n",
        "\n",
        "class Car(Vehicle):\n",
        "    def __init__(self, type, model):\n",
        "        super().__init__(type)\n",
        "        self.model = model\n",
        "\n",
        "    def display_car_details(self):\n",
        "        super().display_type()\n",
        "        print(f\"Car model: {self.model}\")\n",
        "\n",
        "class ElectricCar(Car):\n",
        "    def __init__(self, type, model, battery):\n",
        "        super().__init__(type, model)\n",
        "        self.battery = battery\n",
        "\n",
        "    def display_electric_car_details(self):\n",
        "        super().display_car_details()\n",
        "        print(f\"Battery capacity: {self.battery} kWh\")\n",
        "\n",
        "# Example usage:\n",
        "electric_car = ElectricCar(\"Car\", \"Model S\", 100)\n",
        "electric_car.display_electric_car_details()\n",
        "\n",
        "car = Car(\"Car\", \"Camry\")\n",
        "car.display_car_details()\n",
        "\n",
        "vehicle = Vehicle(\"Truck\")\n",
        "vehicle.display_type()"
      ],
      "metadata": {
        "colab": {
          "base_uri": "https://localhost:8080/"
        },
        "id": "sbzTuTePZpsc",
        "outputId": "058b87c3-98e6-4146-8114-a0ce1a1c8ef9"
      },
      "execution_count": 10,
      "outputs": [
        {
          "output_type": "stream",
          "name": "stdout",
          "text": [
            "Vehicle type: Car\n",
            "Car model: Model S\n",
            "Battery capacity: 100 kWh\n",
            "Vehicle type: Car\n",
            "Car model: Camry\n",
            "Vehicle type: Truck\n"
          ]
        }
      ]
    },
    {
      "cell_type": "code",
      "source": [
        "# 4. Demonstrate polymorphism by creating a base class Bird with a method fly(). Create two derived classes Sparrow and Penguin that override the fly() method.\n",
        "\n",
        "class Bird:\n",
        "    def fly(self):\n",
        "        print(\"Bird can fly (generic).\")\n",
        "\n",
        "class Sparrow(Bird):\n",
        "    def fly(self):\n",
        "        print(\"Sparrow is flying.\")\n",
        "\n",
        "class Penguin(Bird):\n",
        "    def fly(self):\n",
        "        print(\"Penguin cannot fly, but swims.\")\n",
        "\n",
        "# Example usage:\n",
        "bird = Bird()\n",
        "sparrow = Sparrow()\n",
        "penguin = Penguin()\n",
        "\n",
        "birds = [bird, sparrow, penguin]\n",
        "\n",
        "for animal in birds:\n",
        "    animal.fly()"
      ],
      "metadata": {
        "colab": {
          "base_uri": "https://localhost:8080/"
        },
        "id": "V4oN7Foxaesx",
        "outputId": "758a0ffa-2f3f-4f41-990b-13d0ad29148f"
      },
      "execution_count": 11,
      "outputs": [
        {
          "output_type": "stream",
          "name": "stdout",
          "text": [
            "Bird can fly (generic).\n",
            "Sparrow is flying.\n",
            "Penguin cannot fly, but swims.\n"
          ]
        }
      ]
    },
    {
      "cell_type": "code",
      "source": [
        "# 5. Write a program to demonstrate encapsulation by creating a class BankAccount with private attributes balance and methods to deposit, withdraw, and check balance.\n",
        "\n",
        "class BankAccount:\n",
        "    def __init__(self, bal=0): self.__bal = bal\n",
        "    def deposit(self, amt):\n",
        "        if amt > 0: self.__bal += amt; print(f\"Deposited. New bal: {self.__bal}\")\n",
        "    def withdraw(self, amt):\n",
        "        if 0 < amt <= self.__bal: self.__bal -= amt; print(f\"Withdrew. New bal: {self.__bal}\")\n",
        "        else: print(\"Invalid\")\n",
        "    def check(self): print(f\"Balance: {self.__bal}\")\n",
        "\n",
        "acc = BankAccount(100)\n",
        "acc.deposit(50)\n",
        "acc.withdraw(200)\n",
        "acc.check()"
      ],
      "metadata": {
        "colab": {
          "base_uri": "https://localhost:8080/"
        },
        "id": "v1aKc4m-aq_X",
        "outputId": "310e1e1c-95e0-432f-deab-239bfe48b2c3"
      },
      "execution_count": 12,
      "outputs": [
        {
          "output_type": "stream",
          "name": "stdout",
          "text": [
            "Deposited. New bal: 150\n",
            "Invalid\n",
            "Balance: 150\n"
          ]
        }
      ]
    },
    {
      "cell_type": "code",
      "source": [
        "# 6. Demonstrate runtime polymorphism using a method play() in a base class Instrument. Derive classes Guitar and Piano that implement their own version of play().\n",
        "\n",
        "class Instrument:\n",
        "    def play(self):\n",
        "        print(\"Playing a generic instrument.\")\n",
        "\n",
        "class Guitar(Instrument):\n",
        "    def play(self):\n",
        "        print(\"Playing a guitar: strumming chords.\")\n",
        "\n",
        "class Piano(Instrument):\n",
        "    def play(self):\n",
        "        print(\"Playing a piano: pressing keys.\")\n",
        "\n",
        "# Example usage:\n",
        "instrument = Instrument()\n",
        "guitar = Guitar()\n",
        "piano = Piano()\n",
        "\n",
        "instruments = [instrument, guitar, piano]\n",
        "\n",
        "for item in instruments:\n",
        "    item.play()"
      ],
      "metadata": {
        "colab": {
          "base_uri": "https://localhost:8080/"
        },
        "id": "t4UuCM7xa_Mn",
        "outputId": "9df6b004-6779-4c98-a84f-a083a3299e4f"
      },
      "execution_count": 13,
      "outputs": [
        {
          "output_type": "stream",
          "name": "stdout",
          "text": [
            "Playing a generic instrument.\n",
            "Playing a guitar: strumming chords.\n",
            "Playing a piano: pressing keys.\n"
          ]
        }
      ]
    },
    {
      "cell_type": "code",
      "source": [
        "# 7. Create a class MathOperations with a class method add_numbers() to add two numbers and a static method subtract_numbers() to subtract two numbers.\n",
        "\n",
        "class MathOperations:\n",
        "    @classmethod\n",
        "    def add_numbers(cls, a, b): return a + b\n",
        "\n",
        "    @staticmethod\n",
        "    def subtract_numbers(a, b): return a - b\n",
        "\n",
        "print(MathOperations.add_numbers(5, 3))\n",
        "print(MathOperations.subtract_numbers(10, 4))"
      ],
      "metadata": {
        "colab": {
          "base_uri": "https://localhost:8080/"
        },
        "id": "W1-S7zFxbKWq",
        "outputId": "0adbed3a-fa28-42a0-f1d4-456f9c83a780"
      },
      "execution_count": 14,
      "outputs": [
        {
          "output_type": "stream",
          "name": "stdout",
          "text": [
            "8\n",
            "6\n"
          ]
        }
      ]
    },
    {
      "cell_type": "code",
      "source": [
        "# 8. Implement a class Person with a class method to count the total number of persons created.\n",
        "\n",
        "class Person:\n",
        "    \"\"\"A class to represent a person and count the number of persons created.\"\"\"\n",
        "\n",
        "    _person_count = 0  # Class variable to track the number of persons\n",
        "\n",
        "    def __init__(self, name):\n",
        "        \"\"\"Initializes a Person object and increments the person count.\"\"\"\n",
        "        self.name = name\n",
        "        Person._person_count += 1\n",
        "\n",
        "    @classmethod\n",
        "    def get_person_count(cls):\n",
        "        \"\"\"Returns the total number of Person objects created.\"\"\"\n",
        "        return cls._person_count\n",
        "\n",
        "# Example usage:\n",
        "person1 = Person(\"Alice\")\n",
        "person2 = Person(\"Bob\")\n",
        "person3 = Person(\"Charlie\")\n",
        "\n",
        "print(f\"Total persons created: {Person.get_person_count()}\")"
      ],
      "metadata": {
        "colab": {
          "base_uri": "https://localhost:8080/"
        },
        "id": "8NSOnzHWbVy-",
        "outputId": "ae719501-a008-410c-8bc6-3a3d6aa89e9d"
      },
      "execution_count": 15,
      "outputs": [
        {
          "output_type": "stream",
          "name": "stdout",
          "text": [
            "Total persons created: 3\n"
          ]
        }
      ]
    },
    {
      "cell_type": "code",
      "source": [
        "# 9. Write a class Fraction with attributes numerator and denominator. Override the str method to display the fraction as \"numerator/denominator\".\n",
        "\n",
        "class Fraction:\n",
        "    def __init__(self, numerator, denominator):\n",
        "        self.numerator = numerator\n",
        "        self.denominator = denominator\n",
        "\n",
        "    def __str__(self):\n",
        "        return f\"{self.numerator}/{self.denominator}\"\n",
        "\n",
        "# Example usage:\n",
        "fraction1 = Fraction(3, 4)\n",
        "fraction2 = Fraction(1, 2)\n",
        "\n",
        "print(fraction1)\n",
        "print(fraction2)"
      ],
      "metadata": {
        "colab": {
          "base_uri": "https://localhost:8080/"
        },
        "id": "wQsmJzwVbeXn",
        "outputId": "59306bb7-53a7-4c79-9bc5-96d8bfd3d3be"
      },
      "execution_count": 16,
      "outputs": [
        {
          "output_type": "stream",
          "name": "stdout",
          "text": [
            "3/4\n",
            "1/2\n"
          ]
        }
      ]
    },
    {
      "cell_type": "code",
      "source": [
        "# 10. Demonstrate operator overloading by creating a class Vector and overriding the add method to add two vectors.\n",
        "\n",
        "class Vector:\n",
        "    def __init__(self, x, y): self.x, self.y = x, y\n",
        "    def __add__(self, other): return Vector(self.x + other.x, self.y + other.y)\n",
        "    def __str__(self): return f\"({self.x}, {self.y})\"\n",
        "\n",
        "v1 = Vector(2, 3)\n",
        "v2 = Vector(1, -1)\n",
        "print(v1 + v2)"
      ],
      "metadata": {
        "colab": {
          "base_uri": "https://localhost:8080/"
        },
        "id": "Sl-cgi3zbpos",
        "outputId": "afb445e2-04e4-4ff2-bc7a-525cc2b6c28a"
      },
      "execution_count": 17,
      "outputs": [
        {
          "output_type": "stream",
          "name": "stdout",
          "text": [
            "(3, 2)\n"
          ]
        }
      ]
    },
    {
      "cell_type": "code",
      "source": [
        "# 11. Create a class Person with attributes name and age. Add a method greet() that prints \"Hello, my name is {name} and I am {age} years old.\n",
        "\n",
        "class Person:\n",
        "    def __init__(self, name, age):\n",
        "        self.name = name\n",
        "        self.age = age\n",
        "\n",
        "    def greet(self):\n",
        "        print(f\"Hello, my name is {self.name} and I am {self.age} years old.\")\n",
        "\n",
        "# Example usage:\n",
        "person1 = Person(\"Alice\", 30)\n",
        "person2 = Person(\"Bob\", 25)\n",
        "\n",
        "person1.greet()\n",
        "person2.greet()"
      ],
      "metadata": {
        "colab": {
          "base_uri": "https://localhost:8080/"
        },
        "id": "OtXdqA_xb3HI",
        "outputId": "1e1a5248-cdca-414e-cc55-2336ab74b1f0"
      },
      "execution_count": 18,
      "outputs": [
        {
          "output_type": "stream",
          "name": "stdout",
          "text": [
            "Hello, my name is Alice and I am 30 years old.\n",
            "Hello, my name is Bob and I am 25 years old.\n"
          ]
        }
      ]
    },
    {
      "cell_type": "code",
      "source": [
        "# 12. Implement a class Student with attributes name and grades. Create a method average_grade() to compute the average of the grades.\n",
        "\n",
        "class Student:\n",
        "    def __init__(self, name, grades):\n",
        "        self.name = name\n",
        "        self.grades = grades\n",
        "\n",
        "    def average_grade(self):\n",
        "        if not self.grades:  # Check if the grades list is empty\n",
        "            return 0  # Return 0 if no grades are available\n",
        "        return sum(self.grades) / len(self.grades)\n",
        "\n",
        "# Example usage:\n",
        "student1 = Student(\"Alice\", [85, 90, 78, 92])\n",
        "student2 = Student(\"Bob\", [70, 80, 75])\n",
        "student3 = Student(\"Charlie\", [])\n",
        "\n",
        "print(f\"{student1.name}'s average grade: {student1.average_grade()}\")\n",
        "print(f\"{student2.name}'s average grade: {student2.average_grade()}\")\n",
        "print(f\"{student3.name}'s average grade: {student3.average_grade()}\")"
      ],
      "metadata": {
        "colab": {
          "base_uri": "https://localhost:8080/"
        },
        "id": "U7WFa9CVcCcv",
        "outputId": "bc9c8bc9-2209-4381-a76f-c0634fb98d66"
      },
      "execution_count": 19,
      "outputs": [
        {
          "output_type": "stream",
          "name": "stdout",
          "text": [
            "Alice's average grade: 86.25\n",
            "Bob's average grade: 75.0\n",
            "Charlie's average grade: 0\n"
          ]
        }
      ]
    },
    {
      "cell_type": "code",
      "source": [
        "# 13. Create a class Rectangle with methods set_dimensions() to set the dimensions and area() to calculate the area.\n",
        "\n",
        "class Rectangle:\n",
        "    def set_dimensions(self, l, w): self.l, self.w = l, w\n",
        "    def area(self): return self.l * self.w\n",
        "\n",
        "r = Rectangle()\n",
        "r.set_dimensions(5, 10)\n",
        "print(r.area())"
      ],
      "metadata": {
        "colab": {
          "base_uri": "https://localhost:8080/"
        },
        "id": "2UhdmkDmcYig",
        "outputId": "2cf76c26-13fa-40ab-e0b9-fa2c53995433"
      },
      "execution_count": 20,
      "outputs": [
        {
          "output_type": "stream",
          "name": "stdout",
          "text": [
            "50\n"
          ]
        }
      ]
    },
    {
      "cell_type": "code",
      "source": [
        "# 14. Create a class Employee with a method calculate_salary() that computes the salary based on hours worked and hourly rate. Create a derived class Manager that adds a bonus to the salary.\n",
        "\n",
        "class Employee:\n",
        "    def __init__(self, h, r): self.h, self.r = h, r\n",
        "    def calculate_salary(self): return self.h * self.r\n",
        "\n",
        "class Manager(Employee):\n",
        "    def __init__(self, h, r, b): super().__init__(h, r); self.b = b\n",
        "    def calculate_salary(self): return super().calculate_salary() + self.b\n",
        "\n",
        "e = Employee(40, 15)\n",
        "m = Manager(40, 25, 500)\n",
        "print(e.calculate_salary(), m.calculate_salary())"
      ],
      "metadata": {
        "colab": {
          "base_uri": "https://localhost:8080/"
        },
        "id": "HsIu0oXZchz5",
        "outputId": "b432b7cd-1c44-4a84-9fcd-e5499751e3b7"
      },
      "execution_count": 21,
      "outputs": [
        {
          "output_type": "stream",
          "name": "stdout",
          "text": [
            "600 1500\n"
          ]
        }
      ]
    },
    {
      "cell_type": "code",
      "source": [
        "# 15. Create a class Product with attributes name, price, and quantity. Implement a method total_price() that calculates the total price of the product.\n",
        "\n",
        "class Product:\n",
        "    def __init__(self, name, price, quantity):\n",
        "        self.name = name\n",
        "        self.price = price\n",
        "        self.quantity = quantity\n",
        "\n",
        "    def total_price(self):\n",
        "        return self.price * self.quantity\n",
        "\n",
        "# Example usage:\n",
        "product1 = Product(\"Laptop\", 1200, 2)\n",
        "product2 = Product(\"Mouse\", 25, 5)\n",
        "\n",
        "print(f\"Total price of {product1.name}: ${product1.total_price()}\")\n",
        "print(f\"Total price of {product2.name}: ${product2.total_price()}\")"
      ],
      "metadata": {
        "colab": {
          "base_uri": "https://localhost:8080/"
        },
        "id": "1h05PWECcskM",
        "outputId": "929203e0-d9a0-446a-e79e-be3a673fe736"
      },
      "execution_count": 22,
      "outputs": [
        {
          "output_type": "stream",
          "name": "stdout",
          "text": [
            "Total price of Laptop: $2400\n",
            "Total price of Mouse: $125\n"
          ]
        }
      ]
    },
    {
      "cell_type": "code",
      "source": [
        "#16. Create a class Animal with an abstract method sound(). Create two derived classes Cow and Sheep that implement the sound() method.\n",
        "\n",
        "from abc import ABC, abstractmethod\n",
        "\n",
        "class Animal(ABC):\n",
        "    @abstractmethod\n",
        "    def sound(self): pass\n",
        "\n",
        "class Cow(Animal):\n",
        "    def sound(self): return \"Moo!\"\n",
        "\n",
        "class Sheep(Animal):\n",
        "    def sound(self): return \"Baa!\"\n",
        "\n",
        "c, s = Cow(), Sheep()\n",
        "print(c.sound(), s.sound())"
      ],
      "metadata": {
        "colab": {
          "base_uri": "https://localhost:8080/"
        },
        "id": "lxx7sRt5c1Ix",
        "outputId": "4fc8ef6a-67ac-4cde-f18e-eb98ae217643"
      },
      "execution_count": 23,
      "outputs": [
        {
          "output_type": "stream",
          "name": "stdout",
          "text": [
            "Moo! Baa!\n"
          ]
        }
      ]
    },
    {
      "cell_type": "code",
      "source": [
        "# 17. Create a class Book with attributes title, author, and year_published. Add a method get_book_info() that returns a formatted string with the book's details.\n",
        "\n",
        "class Book:\n",
        "    def __init__(self, title, author, year_published):\n",
        "        self.title = title\n",
        "        self.author = author\n",
        "        self.year_published = year_published\n",
        "\n",
        "    def get_book_info(self):\n",
        "        return f\"Title: {self.title}, Author: {self.author}, Year Published: {self.year_published}\"\n",
        "\n",
        "# Example usage:\n",
        "book1 = Book(\"The Hitchhiker's Guide to the Galaxy\", \"Douglas Adams\", 1979)\n",
        "book2 = Book(\"Pride and Prejudice\", \"Jane Austen\", 1813)\n",
        "\n",
        "print(book1.get_book_info())\n",
        "print(book2.get_book_info())"
      ],
      "metadata": {
        "colab": {
          "base_uri": "https://localhost:8080/"
        },
        "id": "1Vf_BAbXc-9t",
        "outputId": "e4395e01-3ce1-4e04-f6b2-c1782b2e3ff0"
      },
      "execution_count": 24,
      "outputs": [
        {
          "output_type": "stream",
          "name": "stdout",
          "text": [
            "Title: The Hitchhiker's Guide to the Galaxy, Author: Douglas Adams, Year Published: 1979\n",
            "Title: Pride and Prejudice, Author: Jane Austen, Year Published: 1813\n"
          ]
        }
      ]
    },
    {
      "cell_type": "code",
      "source": [
        "# 18. Create a class House with attributes address and price. Create a derived class Mansion that adds an attribute number_of_rooms.\n",
        "\n",
        "class House:\n",
        "    def __init__(self, a, p): self.a, self.p = a, p\n",
        "    def __str__(self): return f\"Addr: {self.a}, Price: {self.p}\"\n",
        "\n",
        "class Mansion(House):\n",
        "    def __init__(self, a, p, r): super().__init__(a, p); self.r = r\n",
        "    def __str__(self): return f\"{super().__str__()}, Rooms: {self.r}\"\n",
        "\n",
        "h, m = House(\"A\", 100), Mansion(\"B\", 1000, 10)\n",
        "print(h, m)"
      ],
      "metadata": {
        "colab": {
          "base_uri": "https://localhost:8080/"
        },
        "id": "JCy-vefldGhy",
        "outputId": "7fd18ec5-4f8d-43f8-ca78-19a120e73fbd"
      },
      "execution_count": 25,
      "outputs": [
        {
          "output_type": "stream",
          "name": "stdout",
          "text": [
            "Addr: A, Price: 100 Addr: B, Price: 1000, Rooms: 10\n"
          ]
        }
      ]
    }
  ]
}